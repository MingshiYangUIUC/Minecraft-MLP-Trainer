{
 "cells": [
  {
   "attachments": {},
   "cell_type": "markdown",
   "metadata": {},
   "source": [
    "Export simple multilayer perceptron to mcfunction (math api required)"
   ]
  },
  {
   "cell_type": "code",
   "execution_count": 1,
   "metadata": {},
   "outputs": [],
   "source": [
    "import numpy as np\n",
    "import torch"
   ]
  },
  {
   "attachments": {},
   "cell_type": "markdown",
   "metadata": {},
   "source": [
    "Input: several values; Output: 1 value"
   ]
  },
  {
   "cell_type": "code",
   "execution_count": 2,
   "metadata": {},
   "outputs": [],
   "source": [
    "def fnn_func_autoscale(fname,sd,lastrelu=False,vmax=1000000): # vmax is max value likely encountered.\n",
    "    '''\n",
    "    Convert a model to mcfunction.\n",
    "    Parameters are scaled by 10000 for int32 scoreboard operations.\n",
    "    So your input parameter also need to be scaled.\n",
    "    For example, horizontal distance of 10m should be scaled to 100000 before calling the function.\n",
    "    vmax should be the maximum input value the network encounter to prevent overflows.\n",
    "    '''\n",
    "    \n",
    "    mtp = int(np.floor(2**31/vmax))\n",
    "    f = open(fname,'w')\n",
    "\n",
    "    f.write('\\n\\n\\n\\n')\n",
    "\n",
    "    ks = list(sd.keys())\n",
    "    ll = int(len(ks)/2)\n",
    "\n",
    "    for l in range(ll):\n",
    "        f.write(f'#Process Layer {l}\\n\\n')\n",
    "        wl = np.int32(np.round(sd[ks[int(l*2)]]*10000))\n",
    "        bl = np.int32(np.round(sd[ks[int(l*2+1)]]*10000))\n",
    "        #print(np.max(np.abs(wl)),np.max(np.abs(bl)))\n",
    "        maxw = np.max(np.abs(wl))\n",
    "        #print('L----')\n",
    "        #print(maxw)\n",
    "        div0 = int(np.ceil(maxw/mtp))\n",
    "        div1 = int(round(10000/div0))\n",
    "        #print(div0,div1)\n",
    "\n",
    "        f.write(f'scoreboard players set #div0 swMath_V {div0}\\n')\n",
    "        f.write(f'scoreboard players set #div1 swMath_V {div1}\\n')\n",
    "        # scale\n",
    "        for j in range(wl.shape[1]):\n",
    "            f.write(f'scoreboard players operation #x{l}_{j} swMath_V /= #div0 swMath_V\\n')\n",
    "        f.write('\\n')\n",
    "        for i in range(wl.shape[0]):\n",
    "\n",
    "            f.write(f'scoreboard players set #x{l+1}_{i} swMath_V 0\\n')\n",
    "            f.write(f'scoreboard players set #bl_{i} swMath_V {bl[i]}\\n')\n",
    "\n",
    "            for j in range(wl.shape[1]):\n",
    "                f.write(f'scoreboard players set #wl_{i}{j} swMath_V {wl[i][j]}\\n')\n",
    "                f.write(f'scoreboard players operation #wl_{i}{j} swMath_V *= #x{l}_{j} swMath_V\\n')\n",
    "                f.write(f'scoreboard players operation #wl_{i}{j} swMath_V /= #div1 swMath_V\\n')\n",
    "                f.write(f'scoreboard players operation #x{l+1}_{i} swMath_V += #wl_{i}{j} swMath_V\\n')\n",
    "\n",
    "            f.write(f'scoreboard players operation #x{l+1}_{i} swMath_V += #bl_{i} swMath_V\\n')\n",
    "            if l+1 != ll:\n",
    "                f.write(f'execute if score #x{l+1}_{i} swMath_V matches ..-1 run scoreboard players set #x{l+1}_{i} swMath_V 0\\n')\n",
    "            elif lastrelu:\n",
    "                f.write(f'execute if score #x{l+1}_{i} swMath_V matches ..-1 run scoreboard players set #x{l+1}_{i} swMath_V 0\\n')\n",
    "            #f.write(f'tellraw @a [{{\"text\":\"#x1_{i}: \"}},{{\"score\":{{\"name\": \"#x1_{i}\",\"objective\": \"swMath_V\"}}}}]')\n",
    "\n",
    "            f.write('\\n\\n')\n",
    "        f.write('\\n\\n')\n",
    "    f.write(f'scoreboard players operation #x_out swMath_V = #x{l+1}_{i} swMath_V \\n')\n",
    "    f.close()\n",
    "    pass"
   ]
  },
  {
   "cell_type": "code",
   "execution_count": 24,
   "metadata": {},
   "outputs": [],
   "source": [
    "net = torch.jit.load('model/xxx_a').to('cpu')\n",
    "sd = {}\n",
    "for e in net.state_dict():\n",
    "    sd[e]=net.state_dict()[e].cpu().numpy()\n",
    "\n",
    "fname = 'path_to_file.mcfunction'\n",
    "fnn_func_autoscale(fname,sd,lastrelu=False)"
   ]
  },
  {
   "cell_type": "code",
   "execution_count": null,
   "metadata": {},
   "outputs": [],
   "source": [
    "net = torch.jit.load('model/xxx_t').to('cpu')\n",
    "sd = {}\n",
    "for e in net.state_dict():\n",
    "    sd[e]=net.state_dict()[e].cpu().numpy()\n",
    "\n",
    "fname = 'path_to_file.mcfunction'\n",
    "fnn_func_autoscale(fname,sd,lastrelu=True)"
   ]
  }
 ],
 "metadata": {
  "kernelspec": {
   "display_name": "ml-0",
   "language": "python",
   "name": "python3"
  },
  "language_info": {
   "codemirror_mode": {
    "name": "ipython",
    "version": 3
   },
   "file_extension": ".py",
   "mimetype": "text/x-python",
   "name": "python",
   "nbconvert_exporter": "python",
   "pygments_lexer": "ipython3",
   "version": "3.10.8"
  },
  "orig_nbformat": 4,
  "vscode": {
   "interpreter": {
    "hash": "6292a1e538ce24be4c228db04d0102d90bdb1418394ceae74bceab539b8135c0"
   }
  }
 },
 "nbformat": 4,
 "nbformat_minor": 2
}
